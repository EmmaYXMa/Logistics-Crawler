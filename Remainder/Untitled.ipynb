{
 "cells": [
  {
   "cell_type": "code",
   "execution_count": 7,
   "metadata": {
    "collapsed": true
   },
   "outputs": [],
   "source": [
    "def get_single_item_data(item_url):\n",
    "    source_code = requests.get(item_url)\n",
    "    plain_text = source_code.text\n",
    "    #plain_text = plain_text.replace(' ','_')    #将空格转化为下划线\n",
    "    #plain_text = plain_text.replace('\\n ','_')    #将空格转化为下划线\n",
    "    soup = BeautifulSoup(plain_text)\n",
    "    for name in soup.findAll('h1', {'style':'font-size:22px;'}):\n",
    "        item_name = str(name)\n",
    "    f = open('58lease_warehouse_info.txt','a')\n",
    "    #index = 1\n",
    "    for item_info in soup.findAll('ul', {'class':'info'}):\n",
    "        item_info_text = item_info.get_text()\n",
    "        item_general_location = re.search(u\"区域：.*\",item_info_text).group() #获取区域\n",
    "        item_specific_location = re.search(u\"地段：.*\",item_info_text).group() #获取地段\n",
    "        item_area = re.search(u\"面积：.*\",item_info_text).group() #获取面积\n",
    "        x = re.search(u\"租金：.*\",item_info_text,re.S) #租金匹配 \n",
    "        item_lease_fee = x.group() #获取租金\n",
    "\n",
    "       # print item_general_location\n",
    "       # print item_specific_location\n",
    "       # print item_area\n",
    "   # for item_lease_fee in soup.findAll('em', {'class':'redfont'}):\n",
    "       # print u\"租金：\" + (item_lease_fee.string)\n",
    "       # print item_info_text\n",
    "       # print item_lease_fee\n",
    "    # f = open('58lease_warehouse_info.txt','a')\n",
    "        strings = item_name +',' +item_general_location + ',' + item_specific_location +',' + item_area + ',' + item_lease_fee\n",
    "        s = re.sub('\\s','',strings)\n",
    "        s1 = re.sub('<h1style=\"font-size:22px;\">','',s)\n",
    "        s2 = re.sub ('</h1>', '', s1)\n",
    "        string = re.sub (u\"轻松买铺，贷来财富\", '', s2)\n",
    "        f.write(string)\n",
    "        f.write('\\r\\n')\n",
    "        #index = index + 1\n",
    "    f.close()"
   ]
  },
  {
   "cell_type": "code",
   "execution_count": 5,
   "metadata": {
    "collapsed": true
   },
   "outputs": [],
   "source": [
    "# -*- coding: UTF-8 -*-  \n",
    "import sys\n",
    "import requests\n",
    "from bs4 import BeautifulSoup\n",
    "import re\n",
    "reload(sys)\n",
    "sys.setdefaultencoding('utf8')\n",
    "def lease_spider(max_pages):\n",
    "    page = 1\n",
    "    while page <= max_pages:\n",
    "        url = 'http://bj.58.com/cangkucf/pn' + str(page)\n",
    "        source_code = requests.get(url)\n",
    "        plain_text = source_code.text\n",
    "        soup = BeautifulSoup(plain_text)\n",
    "        for link in soup.findAll('a',{'class': 't'}):\n",
    "            href = link.get('href')\n",
    "            title = link.string\n",
    "           # print href\n",
    "           # print title\n",
    "            get_single_item_data(href)\n",
    "            page += 1\n",
    "            print page"
   ]
  },
  {
   "cell_type": "code",
   "execution_count": 9,
   "metadata": {
    "collapsed": false
   },
   "outputs": [],
   "source": [
    "lease_spider(1)"
   ]
  },
  {
   "cell_type": "code",
   "execution_count": null,
   "metadata": {
    "collapsed": true
   },
   "outputs": [],
   "source": []
  }
 ],
 "metadata": {
  "kernelspec": {
   "display_name": "Python 2",
   "language": "python",
   "name": "python2"
  },
  "language_info": {
   "codemirror_mode": {
    "name": "ipython",
    "version": 2
   },
   "file_extension": ".py",
   "mimetype": "text/x-python",
   "name": "python",
   "nbconvert_exporter": "python",
   "pygments_lexer": "ipython2",
   "version": "2.7.12"
  }
 },
 "nbformat": 4,
 "nbformat_minor": 1
}
