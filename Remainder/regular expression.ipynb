{
 "cells": [
  {
   "cell_type": "markdown",
   "metadata": {},
   "source": [
    "# Regular Expressions"
   ]
  },
  {
   "cell_type": "markdown",
   "metadata": {},
   "source": [
    "## What is it?\n",
    "*Re module included with python*\n",
    "1. PRIMARILY Used for string searching and manipulation\n",
    "1. FREQUENTLY Used for webpage 'scraping'"
   ]
  },
  {
   "cell_type": "markdown",
   "metadata": {},
   "source": [
    "## How to use it?"
   ]
  },
  {
   "cell_type": "markdown",
   "metadata": {},
   "source": [
    "Split character"
   ]
  },
  {
   "cell_type": "code",
   "execution_count": 1,
   "metadata": {
    "collapsed": true
   },
   "outputs": [],
   "source": [
    "import re"
   ]
  },
  {
   "cell_type": "code",
   "execution_count": 2,
   "metadata": {
    "collapsed": false
   },
   "outputs": [
    {
     "name": "stdout",
     "output_type": "stream",
     "text": [
      "['here', 'are', 'some', 'bananas']\n"
     ]
    }
   ],
   "source": [
    "print (re.split(r'\\s*', 'here are some bananas'))"
   ]
  },
  {
   "cell_type": "code",
   "execution_count": 4,
   "metadata": {
    "collapsed": false
   },
   "outputs": [
    {
     "name": "stdout",
     "output_type": "stream",
     "text": [
      "['here', ' ', 'are', ' ', 'some', ' ', 'bananas']\n"
     ]
    }
   ],
   "source": [
    "print (re.split(r'(\\s*)', 'here are some bananas'))"
   ]
  },
  {
   "cell_type": "code",
   "execution_count": 6,
   "metadata": {
    "collapsed": false
   },
   "outputs": [
    {
     "name": "stdout",
     "output_type": "stream",
     "text": [
      "['here are ', 's', 'ome banana', 's', '']\n"
     ]
    }
   ],
   "source": [
    "print (re.split(r'(s*)', 'here are some bananas'))"
   ]
  },
  {
   "cell_type": "code",
   "execution_count": 9,
   "metadata": {
    "collapsed": false
   },
   "outputs": [
    {
     "name": "stdout",
     "output_type": "stream",
     "text": [
      "(['here ', 're some ', '', 'n', 'n', 's'], 10)\n"
     ]
    }
   ],
   "source": [
    "print (re.split(r'[a-d]', 'here are some bananas'), re.I|re.M)"
   ]
  },
  {
   "cell_type": "markdown",
   "metadata": {},
   "source": [
    "\\d = digits; \n",
    "\\D = non-digits; \n",
    "\\S = non-Space"
   ]
  },
  {
   "cell_type": "code",
   "execution_count": 10,
   "metadata": {
    "collapsed": false
   },
   "outputs": [
    {
     "name": "stdout",
     "output_type": "stream",
     "text": [
      "(['7', '5', '1', '5'], 10)\n"
     ]
    }
   ],
   "source": [
    "print (re.findall(r'\\d','7515 palo verde st. irvine'), re.I|re.M)"
   ]
  },
  {
   "cell_type": "markdown",
   "metadata": {},
   "source": [
    "\\* = 0 OR MORE;\n",
    "\\+ = 1 OR MORE;\n",
    "? = 0 or 1 of;\n",
    "{5} = exact number of ...\n",
    "{1,60} = range on number of..."
   ]
  },
  {
   "cell_type": "code",
   "execution_count": 20,
   "metadata": {
    "collapsed": false
   },
   "outputs": [
    {
     "name": "stdout",
     "output_type": "stream",
     "text": [
      "(['7515 palo verde '], 10)\n"
     ]
    }
   ],
   "source": [
    "print (re.findall(r'\\d{0,8}\\s\\w+\\s\\w+.','7515 palo verde st. irvine'), re.I|re.M)"
   ]
  },
  {
   "cell_type": "code",
   "execution_count": null,
   "metadata": {
    "collapsed": true
   },
   "outputs": [],
   "source": []
  },
  {
   "cell_type": "code",
   "execution_count": null,
   "metadata": {
    "collapsed": true
   },
   "outputs": [],
   "source": []
  }
 ],
 "metadata": {
  "kernelspec": {
   "display_name": "Python 2",
   "language": "python",
   "name": "python2"
  },
  "language_info": {
   "codemirror_mode": {
    "name": "ipython",
    "version": 2
   },
   "file_extension": ".py",
   "mimetype": "text/x-python",
   "name": "python",
   "nbconvert_exporter": "python",
   "pygments_lexer": "ipython2",
   "version": "2.7.12"
  }
 },
 "nbformat": 4,
 "nbformat_minor": 1
}
